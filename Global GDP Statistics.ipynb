{
 "cells": [
  {
   "metadata": {},
   "cell_type": "markdown",
   "source": [
    "# Global GDP Statistics Analysis (2025)\n",
    "\n",
    "This notebook performs an exploratory data analysis (EDA) of global Gross Domestic Product (GDP) data using the **Global GDP Explorer 2025** dataset sourced from the **World Bank** and **UN data**.\n",
    "The purpose is to clean, process, and summarize GDP per capita values to understand economic variations across countries and identify global income ranges.\n",
    "\n"
   ],
   "id": "7a204291515606d8"
  },
  {
   "metadata": {},
   "cell_type": "markdown",
   "source": [
    "## Importing Libraries and Setting Up the Environment\n",
    "\n",
    "We start by importing essential Python libraries for data manipulation, computation, and visualization:\n",
    "\n",
    "- **NumPy** – for numerical operations\n",
    "- **Pandas** – for loading, cleaning, and summarizing data\n",
    "- **Matplotlib** – for potential visualizations\n",
    "\n",
    "The notebook is configured to run in a local environment, and the dataset is loaded from a KaggleHub cache directory.\n",
    "\n"
   ],
   "id": "d096e5214a8ea38d"
  },
  {
   "cell_type": "code",
   "id": "initial_id",
   "metadata": {
    "collapsed": true,
    "ExecuteTime": {
     "end_time": "2025-10-24T13:54:12.112329Z",
     "start_time": "2025-10-24T13:54:11.997810Z"
    }
   },
   "source": [
    "# Connect to Kaggle\n",
    "import kagglehub"
   ],
   "outputs": [],
   "execution_count": 1
  },
  {
   "metadata": {
    "ExecuteTime": {
     "end_time": "2025-10-24T13:54:25.609181Z",
     "start_time": "2025-10-24T13:54:23.718342Z"
    }
   },
   "cell_type": "code",
   "source": [
    "# Import dataset from Kaggle\n",
    "path = kagglehub.dataset_download(\"asadullahcreative/global-gdp-explorer-2024-world-bank-un-data\")\n",
    "\n",
    "print(\"Path to dataset files:\", path)"
   ],
   "id": "b832c140ce1dc1fd",
   "outputs": [
    {
     "name": "stdout",
     "output_type": "stream",
     "text": [
      "Downloading from https://www.kaggle.com/api/v1/datasets/download/asadullahcreative/global-gdp-explorer-2024-world-bank-un-data?dataset_version_number=1...\n"
     ]
    },
    {
     "name": "stderr",
     "output_type": "stream",
     "text": [
      "100%|██████████| 6.52k/6.52k [00:00<00:00, 9.04MB/s]"
     ]
    },
    {
     "name": "stdout",
     "output_type": "stream",
     "text": [
      "Extracting files...\n",
      "Path to dataset files: C:\\Users\\bdall\\.cache\\kagglehub\\datasets\\asadullahcreative\\global-gdp-explorer-2024-world-bank-un-data\\versions\\1\n"
     ]
    },
    {
     "name": "stderr",
     "output_type": "stream",
     "text": [
      "\n"
     ]
    }
   ],
   "execution_count": 2
  },
  {
   "metadata": {
    "ExecuteTime": {
     "end_time": "2025-10-24T13:55:01.973118Z",
     "start_time": "2025-10-24T13:55:01.970404Z"
    }
   },
   "cell_type": "code",
   "source": [
    "# Import tools\n",
    "import numpy as np\n",
    "import pandas as pd\n",
    "import matplotlib.pyplot as plt"
   ],
   "id": "a07d2a9c829beed8",
   "outputs": [],
   "execution_count": 3
  },
  {
   "metadata": {
    "ExecuteTime": {
     "end_time": "2025-10-24T13:58:19.589427Z",
     "start_time": "2025-10-24T13:58:19.586770Z"
    }
   },
   "cell_type": "code",
   "source": [
    "# Make data readable by notebook\n",
    "import os\n",
    "print(os.getcwd())\n",
    "\n",
    "os.chdir(r\"C:\\Users\\bdall\\.cache\\kagglehub\\datasets\\asadullahcreative\\global-gdp-explorer-2024-world-bank-un-data\\versions\\1\")"
   ],
   "id": "3780b0aaf34745c5",
   "outputs": [
    {
     "name": "stdout",
     "output_type": "stream",
     "text": [
      "C:\\Users\\bdall\\PycharmProjects\\PythonProject\n"
     ]
    }
   ],
   "execution_count": 5
  },
  {
   "metadata": {},
   "cell_type": "markdown",
   "source": [
    "## Loading and Inspecting the Dataset\n",
    "\n",
    "The dataset, `Global GDP Explorer 2025 (World Bank UN Data).csv`, is loaded into a pandas DataFrame.\n",
    "We begin by:\n",
    "- Viewing the first few rows with `head()`\n",
    "- Checking the dataset structure and data types using `info()`\n",
    "- Reviewing summary statistics with `describe()`\n",
    "\n",
    "This provides an initial overview of the GDP data distribution and helps identify data type inconsistencies.\n"
   ],
   "id": "d2954c109b2bf42c"
  },
  {
   "metadata": {
    "ExecuteTime": {
     "end_time": "2025-10-24T14:02:39.581249Z",
     "start_time": "2025-10-24T14:02:39.565692Z"
    }
   },
   "cell_type": "code",
   "source": [
    "# Create data frame\n",
    "import pandas as pd\n",
    "df = pd.read_csv('C:\\\\Users\\\\bdall\\\\.cache\\\\kagglehub\\\\datasets\\\\asadullahcreative\\\\global-gdp-explorer-2024-world-bank-un-data\\\\versions\\\\1\\\\Global GDP Explorer 2025 (World Bank  UN Data).csv', sep=',')\n",
    "print(df.head())\n",
    "print(df.info())\n",
    "print(df.describe())"
   ],
   "id": "c03d841268d2f8ba",
   "outputs": [
    {
     "name": "stdout",
     "output_type": "stream",
     "text": [
      "   Unnamed: 0        Country  GDP (nominal, 2023)    GDP (abbrev.) GDP Growth  \\\n",
      "0           0  United States  $27,720,700,000,000  27.721 trillion      2.89%   \n",
      "1           1          China  $17,794,800,000,000  17.795 trillion      5.25%   \n",
      "2           2        Germany   $4,525,700,000,000   4.526 trillion     −0.27%   \n",
      "3           3          Japan   $4,204,490,000,000   4.204 trillion      1.68%   \n",
      "4           4          India   $3,567,550,000,000   3.568 trillion      8.15%   \n",
      "\n",
      "   Population 2023 GDP per capita Share of World GDP  \n",
      "0        343477335        $80,706             26.11%  \n",
      "1       1422584933        $12,509             16.76%  \n",
      "2         84548231        $53,528              4.26%  \n",
      "3        124370947        $33,806              3.96%  \n",
      "4       1438069596         $2,481              3.36%  \n",
      "<class 'pandas.core.frame.DataFrame'>\n",
      "RangeIndex: 181 entries, 0 to 180\n",
      "Data columns (total 8 columns):\n",
      " #   Column               Non-Null Count  Dtype \n",
      "---  ------               --------------  ----- \n",
      " 0   Unnamed: 0           181 non-null    int64 \n",
      " 1   Country              181 non-null    object\n",
      " 2   GDP (nominal, 2023)  181 non-null    object\n",
      " 3   GDP (abbrev.)        181 non-null    object\n",
      " 4   GDP Growth           181 non-null    object\n",
      " 5   Population 2023      181 non-null    int64 \n",
      " 6   GDP per capita       181 non-null    object\n",
      " 7   Share of World GDP   181 non-null    object\n",
      "dtypes: int64(2), object(6)\n",
      "memory usage: 11.4+ KB\n",
      "None\n",
      "       Unnamed: 0  Population 2023\n",
      "count  181.000000     1.810000e+02\n",
      "mean    90.000000     4.358453e+07\n",
      "std     52.394338     1.555468e+08\n",
      "min      0.000000     9.816000e+03\n",
      "25%     45.000000     2.311472e+06\n",
      "50%     90.000000     9.130429e+06\n",
      "75%    135.000000     3.363516e+07\n",
      "max    180.000000     1.438070e+09\n"
     ]
    }
   ],
   "execution_count": 12
  },
  {
   "metadata": {},
   "cell_type": "markdown",
   "source": [
    "## Data Quality Checks\n",
    "\n",
    "Before analysis, we inspect the dataset for:\n",
    "- **Duplicate rows** using `df.duplicated().sum()`\n",
    "- **Null or missing values** using `df.isnull().sum()`\n",
    "- **Column names** using `df.columns.tolist()`\n",
    "\n",
    "These checks ensure that the dataset is clean, reliable, and ready for analysis.\n"
   ],
   "id": "41a384d6e04ee615"
  },
  {
   "metadata": {
    "ExecuteTime": {
     "end_time": "2025-10-24T14:09:35.414095Z",
     "start_time": "2025-10-24T14:09:35.409487Z"
    }
   },
   "cell_type": "code",
   "source": [
    "# Check for dupes and nulls\n",
    "df.duplicated().sum()\n",
    "df.isnull().sum()"
   ],
   "id": "88ce6252e742c3bd",
   "outputs": [
    {
     "data": {
      "text/plain": [
       "Unnamed: 0             0\n",
       "Country                0\n",
       "GDP (nominal, 2023)    0\n",
       "GDP (abbrev.)          0\n",
       "GDP Growth             0\n",
       "Population 2023        0\n",
       "GDP per capita         0\n",
       "Share of World GDP     0\n",
       "dtype: int64"
      ]
     },
     "execution_count": 14,
     "metadata": {},
     "output_type": "execute_result"
    }
   ],
   "execution_count": 14
  },
  {
   "metadata": {
    "ExecuteTime": {
     "end_time": "2025-10-24T14:17:22.870192Z",
     "start_time": "2025-10-24T14:17:22.867152Z"
    }
   },
   "cell_type": "code",
   "source": [
    "#Find the names of columns\n",
    "df.columns.tolist()\n"
   ],
   "id": "d5e7a2527f988455",
   "outputs": [
    {
     "data": {
      "text/plain": [
       "['Unnamed: 0',\n",
       " 'Country',\n",
       " 'GDP (nominal, 2023)',\n",
       " 'GDP (abbrev.)',\n",
       " 'GDP Growth',\n",
       " 'Population 2023',\n",
       " 'GDP per capita',\n",
       " 'Share of World GDP']"
      ]
     },
     "execution_count": 17,
     "metadata": {},
     "output_type": "execute_result"
    }
   ],
   "execution_count": 17
  },
  {
   "metadata": {
    "ExecuteTime": {
     "end_time": "2025-10-24T14:17:44.652078Z",
     "start_time": "2025-10-24T14:17:44.647882Z"
    }
   },
   "cell_type": "code",
   "outputs": [
    {
     "data": {
      "text/plain": [
       "count        181\n",
       "unique       179\n",
       "top       $1,706\n",
       "freq           2\n",
       "Name: GDP per capita, dtype: object"
      ]
     },
     "execution_count": 19,
     "metadata": {},
     "output_type": "execute_result"
    }
   ],
   "execution_count": 19,
   "source": [
    "# Get stat data\n",
    "df['GDP per capita'].describe()\n"
   ],
   "id": "4a4d0a8d237e264c"
  },
  {
   "metadata": {
    "ExecuteTime": {
     "end_time": "2025-10-24T14:22:42.232671Z",
     "start_time": "2025-10-24T14:22:42.229138Z"
    }
   },
   "cell_type": "code",
   "source": [
    "# Discover data type\n",
    "df['GDP per capita'].dtype\n"
   ],
   "id": "8a3f10b4e0d8739",
   "outputs": [
    {
     "data": {
      "text/plain": [
       "dtype('O')"
      ]
     },
     "execution_count": 22,
     "metadata": {},
     "output_type": "execute_result"
    }
   ],
   "execution_count": 22
  },
  {
   "metadata": {},
   "cell_type": "markdown",
   "source": [
    "## Data Cleaning and Conversion\n",
    "\n",
    "The `GDP per capita` column initially contained non-numeric symbols such as commas, dollar signs, spaces, and em-dashes.\n",
    "To prepare it for analysis:\n",
    "1. Converted values to string type\n",
    "2. Removed unwanted symbols (commas, `$`, etc.)\n",
    "3. Replaced invalid entries (`nan`, `None`, empty strings) with NaN\n",
    "4. Converted the column back to float\n",
    "\n",
    "This step ensures that the GDP per capita values can be properly analyzed numerically.\n"
   ],
   "id": "bb437fc0ac3dabcd"
  },
  {
   "metadata": {
    "ExecuteTime": {
     "end_time": "2025-10-24T14:24:07.919530Z",
     "start_time": "2025-10-24T14:24:07.912839Z"
    }
   },
   "cell_type": "code",
   "source": [
    "# Refine stat data\n",
    "df['GDP per capita'] = (\n",
    "    df['GDP per capita']\n",
    "    .astype(str)                                # convert to string (in case of mixed types)\n",
    "    .str.replace(',', '', regex=False)          # remove commas\n",
    "    .str.replace('$', '', regex=False)          # remove dollar signs\n",
    "    .str.replace(' ', '', regex=False)          # remove extra spaces\n",
    "    .str.replace('—', '', regex=False)          # handle em-dash/null symbols\n",
    "    .replace(['nan', '', 'None'], np.nan)       # replace empty with NaN\n",
    "    .astype(float)                              # convert to float\n",
    ")\n",
    "pd.options.display.float_format = '{:,.2f}'.format\n",
    "df['GDP per capita'].describe()"
   ],
   "id": "6f1cb0787627db20",
   "outputs": [
    {
     "data": {
      "text/plain": [
       "count       181.00\n",
       "mean     17,711.29\n",
       "std      23,301.49\n",
       "min         193.00\n",
       "25%       2,478.00\n",
       "50%       7,182.00\n",
       "75%      22,798.00\n",
       "max     128,936.00\n",
       "Name: GDP per capita, dtype: float64"
      ]
     },
     "execution_count": 26,
     "metadata": {},
     "output_type": "execute_result"
    }
   ],
   "execution_count": 26
  },
  {
   "metadata": {},
   "cell_type": "markdown",
   "source": [
    "## GDP per Capita Range Summary\n",
    "\n",
    "We calculate:\n",
    "- Minimum GDP per capita (USD)\n",
    "- Maximum GDP per capita (USD)\n",
    "- Range (difference between max and min)\n",
    "\n",
    "A summary dictionary displays these metrics in a formatted output for quick reference:\n",
    "\n",
    "| Metric | Value (USD) |\n",
    "|---------|--------------|\n",
    "| Minimum GDP per Capita | {min_gdp_formatted} |\n",
    "| Maximum GDP per Capita | {max_gdp_formatted} |\n",
    "| Range (Max - Min) | {range_gdp_formatted} |\n",
    "\n",
    "This helps visualize the global disparity between the wealthiest and poorest economies.\n"
   ],
   "id": "7cd53bf4f9a61129"
  },
  {
   "metadata": {
    "ExecuteTime": {
     "end_time": "2025-10-24T14:29:30.882298Z",
     "start_time": "2025-10-24T14:29:30.878916Z"
    }
   },
   "cell_type": "code",
   "source": [
    "min_gdp = df['GDP per capita'].min()\n",
    "max_gdp = df['GDP per capita'].max()\n",
    "range_gdp = max_gdp - min_gdp\n",
    "\n",
    "# Create a clean summary table\n",
    "summary = {\n",
    "    'Minimum GDP per Capita (USD)': f\"{min_gdp:,.2f}\",\n",
    "    'Maximum GDP per Capita (USD)': f\"{max_gdp:,.2f}\",\n",
    "    'Range (Max - Min)': f\"{range_gdp:,.2f}\"\n",
    "}\n",
    "\n",
    "# Display the results\n",
    "for key, value in summary.items():\n",
    "    print(f\"{key}: {value}\")"
   ],
   "id": "f6907f4631add061",
   "outputs": [
    {
     "name": "stdout",
     "output_type": "stream",
     "text": [
      "Minimum GDP per Capita (USD): 193.00\n",
      "Maximum GDP per Capita (USD): 128,936.00\n",
      "Range (Max - Min): 128,743.00\n"
     ]
    }
   ],
   "execution_count": 28
  },
  {
   "metadata": {},
   "cell_type": "markdown",
   "source": [
    "## Next Steps\n",
    "\n",
    "Possible extensions for this analysis include:\n",
    "- Visualizing GDP per capita by continent or region\n",
    "- Analyzing GDP growth trends over time\n",
    "- Comparing GDP per capita against other metrics such as population, inflation, or HDI\n",
    "- Creating a dashboard to display interactive GDP insights\n",
    "\n",
    "These next steps would provide a more comprehensive understanding of global economic patterns.\n"
   ],
   "id": "52a5ddff19b12f60"
  }
 ],
 "metadata": {
  "kernelspec": {
   "display_name": "Python 3",
   "language": "python",
   "name": "python3"
  },
  "language_info": {
   "codemirror_mode": {
    "name": "ipython",
    "version": 2
   },
   "file_extension": ".py",
   "mimetype": "text/x-python",
   "name": "python",
   "nbconvert_exporter": "python",
   "pygments_lexer": "ipython2",
   "version": "2.7.6"
  }
 },
 "nbformat": 4,
 "nbformat_minor": 5
}
